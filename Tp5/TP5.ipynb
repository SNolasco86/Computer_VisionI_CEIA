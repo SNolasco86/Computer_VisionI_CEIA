{
 "cells": [
  {
   "cell_type": "markdown",
   "source": [
    "# TP5"
   ],
   "metadata": {
    "collapsed": false
   }
  },
  {
   "cell_type": "markdown",
   "source": [
    "### Implementar el detector de fondo naive usando la mediana como estimador. El algoritmo debe recibir el parámetro N (cantidad de frames utilizados para la estimación) y el intervalo de tiempo para recalcular el fondo."
   ],
   "metadata": {
    "collapsed": false
   }
  },
  {
   "cell_type": "markdown",
   "source": [
    "### Se deben generar las mascaras de foreground y aplicarlas a los frames para segmentar los objetos en movimiento."
   ],
   "metadata": {
    "collapsed": false
   }
  },
  {
   "cell_type": "markdown",
   "source": [
    "### Comparar con alguno de los métodos vistos en la practica basados enmezcla de gaussianas"
   ],
   "metadata": {
    "collapsed": false
   }
  },
  {
   "cell_type": "code",
   "execution_count": 81,
   "outputs": [],
   "source": [
    "import numpy as np\n",
    "import cv2 as cv\n",
    "from __future__ import print_function\n",
    "import sys\n",
    "import os\n"
   ],
   "metadata": {
    "collapsed": false
   }
  },
  {
   "cell_type": "code",
   "execution_count": 82,
   "outputs": [],
   "source": [
    "# Función de detector de fondo naive\n",
    "def Naive(N,frame,data):\n",
    "    e1 = cv.getTickCount()  #empiezo a contar\n",
    "    data.append(frame)\n",
    "    time=0\n",
    "    if (len(data) > N):\n",
    "        naive = np.array(data)\n",
    "        naive = np.median(naive,axis=0)\n",
    "        naive = naive.astype(np.uint8)\n",
    "        cv.imshow('fondo Naive',naive)\n",
    "        # data.clear()\n",
    "        #En vez de borrar todo el array solo borramos el primer\n",
    "        #frame del \"array\" para calcular la mediana y no perder mas frames\n",
    "        data.pop(0)\n",
    "        diff = cv.absdiff(frame_gray,naive)\n",
    "        ret, thresh = cv.threshold(diff,20,255,cv.THRESH_BINARY)\n",
    "        e2 = cv.getTickCount()  #Termino de contar\n",
    "        time = (e2 - e1)/ cv.getTickFrequency()\n",
    "        #print('Tiempo de calculo Naive',time, end='\\r')\n",
    "\n",
    "        #cargar el array demora 20mseg\n",
    "        #pero una vez cargado procesar el dato alrededor de 15mseg\n",
    "        #10 veces mas que el MOG2\n",
    "    else:\n",
    "        #Se pierden los primeros N frames antes de calcular la mediana\n",
    "        thresh = frame\n",
    "\n",
    "    return thresh,time"
   ],
   "metadata": {
    "collapsed": false
   }
  },
  {
   "cell_type": "code",
   "execution_count": 83,
   "outputs": [],
   "source": [
    "metodo = 'MOG2'\n",
    "# metodo = 'KNN'\n",
    "if metodo == 'MOG2':\n",
    "    backSub = cv.createBackgroundSubtractorMOG2()\n",
    "else:\n",
    "    backSub = cv.createBackgroundSubtractorKNN()\n",
    "    backSub = cv.createBackgroundSubtractorKNN(detectShadows = True)"
   ],
   "metadata": {
    "collapsed": false
   }
  },
  {
   "cell_type": "code",
   "execution_count": 84,
   "outputs": [],
   "source": [
    "# Abrimos el archivo\n",
    "#-------------------\n",
    "filename = 'vtest.avi'\n",
    "capture = cv.VideoCapture(filename)\n",
    "\n",
    "if not capture.isOpened:\n",
    "    print('Falla al abrir el archivo: ' + filename)\n",
    "    exit(0)\n",
    "\n"
   ],
   "metadata": {
    "collapsed": false
   }
  },
  {
   "cell_type": "markdown",
   "source": [],
   "metadata": {
    "collapsed": false
   }
  },
  {
   "cell_type": "code",
   "execution_count": 85,
   "outputs": [
    {
     "name": "stdout",
     "output_type": "stream",
     "text": [
      "Tiempo de calculo MOG2: 0.00679612 seg || Tiempo de calculo Naive: 0.060731701 segg"
     ]
    }
   ],
   "source": [
    "# Corremos la sustraccion\n",
    "#------------------------\n",
    "ret, frame = capture.read()\n",
    "averageValue1 = np.float32(frame)\n",
    "data=[]\n",
    "timer =0\n",
    "fgMask = cv.cvtColor(frame,cv.COLOR_BGR2GRAY)\n",
    "# ****************\n",
    "# N=cantidad de frames para estimaciòn\n",
    "N = 20\n",
    "# *****************\n",
    "\n",
    "while True:\n",
    "\n",
    "    # Leemos un frame\n",
    "    ret, frame = capture.read()\n",
    "    if frame is None:\n",
    "        break\n",
    "\n",
    "    # Aplicamos la sustracción al frame leído \"media\"\n",
    "\n",
    "    frame_gray = cv.cvtColor(frame,cv.COLOR_BGR2GRAY)\n",
    "    # N=cantidad de frames para estimaciòn\n",
    "    # frame_gray = frame para crear el array\n",
    "    # data = Array para calcular estimaciòn\n",
    "    fgMask,timer=Naive(N,frame_gray,data)\n",
    "    #Mog2\n",
    "    e1_mog = cv.getTickCount()  #empiezo a contar\n",
    "    mog2=backSub.apply(frame)\n",
    "    e2_mog = cv.getTickCount()  #empiezo a contar\n",
    "    print(\"\\r{}\".format(f'Tiempo de calculo MOG2: {(e2_mog - e1_mog)/ cv.getTickFrequency()} seg || '), end=\"\")\n",
    "    print(\"{}\".format(f'Tiempo de calculo Naive: {timer} seg'), end=\"\")\n",
    "    #print(\"\\r{'Tiempo de calculo Naive'}\".format(timer), end=\"\")\n",
    "    #print('Tiempo de calculo MOG2',(e2_mog - e1_mog)/ cv.getTickFrequency())\n",
    "    #print('Tiempo de calculo Naive',timer)\n",
    "    #os.system('clear')\n",
    "    # Escribimos sobre la imagen el número de frame procesado\n",
    "    cv.rectangle(frame, (10, 2), (100,20), (255,255,255), -1)\n",
    "    cv.putText(frame, str(capture.get(cv.CAP_PROP_POS_FRAMES)), (15, 15),\n",
    "               cv.FONT_HERSHEY_SIMPLEX, 0.5 , (0,0,0))\n",
    "    # Escribimos sobre la imagen el número de frame naive procesado\n",
    "    cv.rectangle(fgMask, (10, 2), (100,20), (255,255,255), -1)\n",
    "    cv.putText(fgMask, str(capture.get(cv.CAP_PROP_POS_FRAMES)), (15, 15),\n",
    "               cv.FONT_HERSHEY_SIMPLEX, 0.5 , (0,0,0))\n",
    "    # mostramos frame original e imagen binaria background/foreground\n",
    "    cv.imshow('Frame', frame)\n",
    "    cv.imshow('FG Mask con NAIVE', fgMask)\n",
    "    cv.imshow('FG MOG2', mog2)\n",
    "    # Corresmos hasta que termine o apriete escape\n",
    "    keyboard = cv.waitKey(30)\n",
    "    if keyboard == 'q' or keyboard == 27:\n",
    "        break\n",
    "\n",
    "cv.destroyAllWindows()\n",
    "capture.release()"
   ],
   "metadata": {
    "collapsed": false
   }
  },
  {
   "cell_type": "markdown",
   "source": [
    "### Conclusiones"
   ],
   "metadata": {
    "collapsed": false
   }
  },
  {
   "cell_type": "markdown",
   "source": [
    "\n",
    "##### Luego de implementar el detector de fondo Naive y comparandolo con el detector de fondo MOG2 podemos deducir en base a los tiempos de ejecución que el detector MOG2 es 10 veces mas rápido que el detector Naive. Esta comparación se realiza una vez que el algoritmo de Naive toma los primeros N frames para realizar el cálculo de la mediana (es decir tenemos un \"tiempo muerto\" hasta que realmente funciona el código).\n",
    "##### Como \"talon de aquiles\" de este algoritmo de detección Naive, es el necesario pre-procesamiento de los frames necesarios para calcular la mediana antes de poder realizar la máscara de \"foreground\". El detector de fondo Naive es 10 veces mas lento que el MOG2, por razones de calculo, aparte de tener que calcular la mediana de un nro N de frames."
   ],
   "metadata": {
    "collapsed": false
   }
  },
  {
   "cell_type": "code",
   "execution_count": null,
   "outputs": [],
   "source": [],
   "metadata": {
    "collapsed": false
   }
  }
 ],
 "metadata": {
  "kernelspec": {
   "display_name": "Python 3",
   "language": "python",
   "name": "python3"
  },
  "language_info": {
   "codemirror_mode": {
    "name": "ipython",
    "version": 2
   },
   "file_extension": ".py",
   "mimetype": "text/x-python",
   "name": "python",
   "nbconvert_exporter": "python",
   "pygments_lexer": "ipython2",
   "version": "2.7.6"
  }
 },
 "nbformat": 4,
 "nbformat_minor": 0
}
